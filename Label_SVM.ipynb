{
 "cells": [
  {
   "cell_type": "code",
   "execution_count": 48,
   "id": "35f49417-e755-4644-9264-60b3aea63f8d",
   "metadata": {},
   "outputs": [
    {
     "name": "stdout",
     "output_type": "stream",
     "text": [
      "Test Accuracy: 0.84\n"
     ]
    },
    {
     "name": "stdin",
     "output_type": "stream",
     "text": [
      "Enter a label (or 'exit' to quit):  2a)\n"
     ]
    },
    {
     "name": "stdout",
     "output_type": "stream",
     "text": [
      "Predicted canonical label: 2(a)\n"
     ]
    },
    {
     "name": "stdin",
     "output_type": "stream",
     "text": [
      "Is this correct? (y/n):  y\n",
      "Enter a label (or 'exit' to quit):  Q1(a)\n"
     ]
    },
    {
     "name": "stdout",
     "output_type": "stream",
     "text": [
      "Predicted canonical label: 1(a)\n"
     ]
    },
    {
     "name": "stdin",
     "output_type": "stream",
     "text": [
      "Is this correct? (y/n):  y\n",
      "Enter a label (or 'exit' to quit):  3ai\n"
     ]
    },
    {
     "name": "stdout",
     "output_type": "stream",
     "text": [
      "Predicted canonical label: 3(a)(i)\n"
     ]
    },
    {
     "name": "stdin",
     "output_type": "stream",
     "text": [
      "Is this correct? (y/n):  y\n",
      "Enter a label (or 'exit' to quit):  Part a of Q1\n"
     ]
    },
    {
     "name": "stdout",
     "output_type": "stream",
     "text": [
      "Predicted canonical label: 1(a)\n"
     ]
    },
    {
     "name": "stdin",
     "output_type": "stream",
     "text": [
      "Is this correct? (y/n):  This is eahsdfjgha;ldjsg\n",
      "Enter a label (or 'exit' to quit):  audsgha;dufhglaujdhfg\n"
     ]
    },
    {
     "name": "stdout",
     "output_type": "stream",
     "text": [
      "Predicted canonical label: 1(a)\n"
     ]
    },
    {
     "name": "stdin",
     "output_type": "stream",
     "text": [
      "Is this correct? (y/n):  n\n",
      "Please enter the correct label:  no_label\n",
      "Enter a label (or 'exit' to quit):  This is explained below\n"
     ]
    },
    {
     "name": "stdout",
     "output_type": "stream",
     "text": [
      "Predicted canonical label: no_label\n"
     ]
    },
    {
     "name": "stdin",
     "output_type": "stream",
     "text": [
      "Is this correct? (y/n):  y\n",
      "Enter a label (or 'exit' to quit):  exit\n"
     ]
    }
   ],
   "source": [
    "from sklearn.model_selection import train_test_split\n",
    "from sklearn.preprocessing import StandardScaler\n",
    "from sklearn.svm import SVC\n",
    "from sklearn.feature_extraction.text import TfidfVectorizer\n",
    "import pandas as pd\n",
    "import os\n",
    "from openpyxl import load_workbook\n",
    "\n",
    "# Load data from spreadsheet\n",
    "data = pd.read_excel('C:\\\\Users\\\\adij2\\\\Downloads\\\\question_label_variations.xlsx')\n",
    "\n",
    "# Assign labels\n",
    "X = data['raw_label'].astype(str)         # e.g., \"Q1\", \"question one\"\n",
    "y = data['canonical_label'].astype(str)   # ensure labels are strings\n",
    "\n",
    "# Train-test split\n",
    "X_train, X_test, y_train, y_test = train_test_split(\n",
    "    X, y, test_size=0.2, random_state=42\n",
    ")\n",
    "\n",
    "# Text vectorization with TF-IDF\n",
    "vectorizer = TfidfVectorizer(analyzer='char_wb', ngram_range=(2, 4))\n",
    "X_train_tfidf = vectorizer.fit_transform(X_train)\n",
    "X_test_tfidf = vectorizer.transform(X_test)\n",
    "\n",
    "# Train SVM\n",
    "model = SVC(kernel='rbf', C=1.0, gamma='scale')\n",
    "model.fit(X_train_tfidf, y_train)\n",
    "\n",
    "# Get label input from user\n",
    "while True:\n",
    "    user_input = input(\"Enter a label (or 'exit' to quit): \")\n",
    "    if user_input.lower() == 'exit':\n",
    "        break\n",
    "\n",
    "    #Predict canonical label\n",
    "    user_input_tfidf = vectorizer.transform([user_input])\n",
    "    prediction = model.predict(user_input_tfidf)\n",
    "    print(\"Predicted canonical label:\", prediction[0])\n",
    "    \n",
    "    feedback = input(\"Is this correct? (y/n): \")\n",
    "    if feedback.lower() == \"n\":\n",
    "        correct_label = input(\"Please enter the correct label: \")\n",
    "        # Save corrected input for future training\n",
    "        new_entry = [[user_input, correct_label]]\n",
    "        wb = load_workbook('C:\\\\Users\\\\adij2\\\\Downloads\\\\question_label_variations.xlsx')\n",
    "        ws = wb.active\n",
    "        for row in new_entry:\n",
    "            ws.append(row)\n",
    "        wb.save('C:\\\\Users\\\\adij2\\\\Downloads\\\\question_label_variations.xlsx')"
   ]
  },
  {
   "cell_type": "code",
   "execution_count": null,
   "id": "1172ab4c-7425-4dd9-8e64-c6123ac06930",
   "metadata": {},
   "outputs": [],
   "source": []
  }
 ],
 "metadata": {
  "kernelspec": {
   "display_name": "Python [conda env:base] *",
   "language": "python",
   "name": "conda-base-py"
  },
  "language_info": {
   "codemirror_mode": {
    "name": "ipython",
    "version": 3
   },
   "file_extension": ".py",
   "mimetype": "text/x-python",
   "name": "python",
   "nbconvert_exporter": "python",
   "pygments_lexer": "ipython3",
   "version": "3.13.5"
  }
 },
 "nbformat": 4,
 "nbformat_minor": 5
}
